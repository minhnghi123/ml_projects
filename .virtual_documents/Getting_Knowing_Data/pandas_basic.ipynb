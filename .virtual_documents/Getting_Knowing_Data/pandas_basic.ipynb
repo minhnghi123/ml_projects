


import pandas as pd
import numpy as np 





df = pd.read_csv('chipotle.tsv', sep= "\t")


df.head()





df.shape #=> 4622 rows and 5 columns


df.info()


list(df.columns) # return columns names


df.index


df.describe() # only return the numerical values
df.describe(include='all') #add the include='all' to include all values that is not numerical values





df.loc[(df.quantity == 2) & (df.item_name == 'Chicken Bowl'),['order_id','quantity','item_name']]


df.head()


df.iloc[[9]]


df.iloc[3:10]


X = df.iloc[3:5,:-1] # -1 to specify the column 0 to n-1 (not include n-1)
Y =  df.iloc[3:5,-1]





df.item_price.dtype


df.item_price = df.item_price.apply(lambda x : float(x.replace('$','')))


df.head()



