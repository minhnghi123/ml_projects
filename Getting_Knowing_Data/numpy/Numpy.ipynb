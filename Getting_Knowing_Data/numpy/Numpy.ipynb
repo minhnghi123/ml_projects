{
 "cells": [
  {
   "cell_type": "markdown",
   "id": "3e7fa97e-bbf7-4fb9-85dd-791e059a3a71",
   "metadata": {},
   "source": [
    "## Numpy "
   ]
  },
  {
   "cell_type": "markdown",
   "id": "9ef916ed-e317-4ccd-91fc-7811425e4824",
   "metadata": {},
   "source": [
    "# Creating Numpy Array from python lists"
   ]
  },
  {
   "cell_type": "code",
   "execution_count": 1,
   "id": "8ec84cff-8fd8-4f1c-90ec-ee8ae9813e3d",
   "metadata": {},
   "outputs": [],
   "source": [
    "import numpy as np"
   ]
  },
  {
   "cell_type": "code",
   "execution_count": 4,
   "id": "0287024f-f7cf-42ec-8b2a-cbe58928bbc1",
   "metadata": {},
   "outputs": [
    {
     "data": {
      "text/plain": [
       "array([1, 2, 3])"
      ]
     },
     "execution_count": 4,
     "metadata": {},
     "output_type": "execute_result"
    }
   ],
   "source": [
    "np.array([1,2,3])"
   ]
  },
  {
   "cell_type": "code",
   "execution_count": 6,
   "id": "a1756c3c-5e2d-459f-8b0e-bfe39b5ac978",
   "metadata": {},
   "outputs": [
    {
     "data": {
      "text/plain": [
       "array([4.3, 1. , 2. , 3. , 4. , 5. ])"
      ]
     },
     "execution_count": 6,
     "metadata": {},
     "output_type": "execute_result"
    }
   ],
   "source": [
    "np.array([4.3,1,2,3,4,5]) # in numpy , it will be converted to the data types which is greater float > integer"
   ]
  },
  {
   "cell_type": "code",
   "execution_count": 8,
   "id": "7b906d95-19d5-477d-893a-e03fd0ecc6c3",
   "metadata": {},
   "outputs": [
    {
     "data": {
      "text/plain": [
       "array([1. , 2. , 3. , 4. , 5. , 6.7])"
      ]
     },
     "execution_count": 8,
     "metadata": {},
     "output_type": "execute_result"
    }
   ],
   "source": [
    "np.array([1,2,3,4,5,6.7],dtype='float')# you can specify the data types of array"
   ]
  },
  {
   "cell_type": "code",
   "execution_count": 11,
   "id": "4988fac6-6c49-4567-96e4-01ffcb5d8187",
   "metadata": {},
   "outputs": [
    {
     "data": {
      "text/plain": [
       "numpy.ndarray"
      ]
     },
     "execution_count": 11,
     "metadata": {},
     "output_type": "execute_result"
    }
   ],
   "source": [
    "a1 =  np.array([1,2,3])\n",
    "type(a1)"
   ]
  },
  {
   "cell_type": "code",
   "execution_count": 15,
   "id": "a3e9dabb-5a3c-4559-beca-1721903fead4",
   "metadata": {},
   "outputs": [
    {
     "data": {
      "text/plain": [
       "numpy.ndarray"
      ]
     },
     "execution_count": 15,
     "metadata": {},
     "output_type": "execute_result"
    }
   ],
   "source": [
    "a2 =  np.array([\n",
    "    [1,2,3],\n",
    "    [4,5,6]\n",
    "])\n",
    "type(a2)"
   ]
  },
  {
   "cell_type": "code",
   "execution_count": 17,
   "id": "311d8399-4122-4a13-97a4-f4a9599f9971",
   "metadata": {},
   "outputs": [
    {
     "data": {
      "text/plain": [
       "(2, 3)"
      ]
     },
     "execution_count": 17,
     "metadata": {},
     "output_type": "execute_result"
    }
   ],
   "source": [
    "a2.shape #like as data frame, it also has the shape => (rows,columns)"
   ]
  },
  {
   "cell_type": "code",
   "execution_count": 20,
   "id": "38bc4ed0-6ebd-421c-aac7-7d8659988661",
   "metadata": {},
   "outputs": [
    {
     "data": {
      "text/plain": [
       "2"
      ]
     },
     "execution_count": 20,
     "metadata": {},
     "output_type": "execute_result"
    }
   ],
   "source": [
    "a2.ndim # how many dimenstion in this a2 array"
   ]
  },
  {
   "cell_type": "code",
   "execution_count": 22,
   "id": "f6ea81a6-1f05-4c2a-ba52-656deb1dd6d3",
   "metadata": {},
   "outputs": [
    {
     "data": {
      "text/plain": [
       "6"
      ]
     },
     "execution_count": 22,
     "metadata": {},
     "output_type": "execute_result"
    }
   ],
   "source": [
    "a2.size"
   ]
  },
  {
   "cell_type": "markdown",
   "id": "60b21ab7-87a6-4d3c-8c51-455d9aeb84ce",
   "metadata": {},
   "source": [
    "# Creating Numpy array from Scratch\n",
    "*zeros,ones,full,arange,linspace*"
   ]
  },
  {
   "cell_type": "code",
   "execution_count": 28,
   "id": "d9beb5d4-767c-4d3e-a191-7d3f71d74e82",
   "metadata": {},
   "outputs": [
    {
     "data": {
      "text/plain": [
       "array([[0, 0, 0, 0, 0],\n",
       "       [0, 0, 0, 0, 0]])"
      ]
     },
     "execution_count": 28,
     "metadata": {},
     "output_type": "execute_result"
    }
   ],
   "source": [
    "np.zeros([2,5],dtype='int') "
   ]
  },
  {
   "cell_type": "code",
   "execution_count": 31,
   "id": "bf8f7074-7f21-42f4-aa7d-dd14d03fe0a2",
   "metadata": {},
   "outputs": [
    {
     "data": {
      "text/plain": [
       "array([[1, 1, 1, 1, 1],\n",
       "       [1, 1, 1, 1, 1]])"
      ]
     },
     "execution_count": 31,
     "metadata": {},
     "output_type": "execute_result"
    }
   ],
   "source": [
    "np.ones([2,5],dtype='int')"
   ]
  },
  {
   "cell_type": "code",
   "execution_count": 34,
   "id": "90630014-788e-4d5d-9039-b111ea4de29e",
   "metadata": {},
   "outputs": [
    {
     "data": {
      "text/plain": [
       "array([ 0,  2,  4,  6,  8, 10, 12, 14, 16, 18])"
      ]
     },
     "execution_count": 34,
     "metadata": {},
     "output_type": "execute_result"
    }
   ],
   "source": [
    "np.arange(0,20,2) # (start,end,steps)"
   ]
  },
  {
   "cell_type": "code",
   "execution_count": 39,
   "id": "a315306e-f4e5-4c87-aa6f-6c720da676aa",
   "metadata": {},
   "outputs": [
    {
     "data": {
      "text/plain": [
       "array([[inf, inf, inf, inf, inf],\n",
       "       [inf, inf, inf, inf, inf],\n",
       "       [inf, inf, inf, inf, inf]])"
      ]
     },
     "execution_count": 39,
     "metadata": {},
     "output_type": "execute_result"
    }
   ],
   "source": [
    "np.full([3,5],np.inf)"
   ]
  },
  {
   "cell_type": "code",
   "execution_count": 43,
   "id": "00243453-6062-4fdb-b74d-027e53c3cf39",
   "metadata": {},
   "outputs": [
    {
     "data": {
      "text/plain": [
       "array([0.  , 0.25, 0.5 , 0.75, 1.  ])"
      ]
     },
     "execution_count": 43,
     "metadata": {},
     "output_type": "execute_result"
    }
   ],
   "source": [
    "#Creating an array of five values evenly spaced between 0 and 1\n",
    "np.linspace(0,1,5)"
   ]
  },
  {
   "cell_type": "code",
   "execution_count": 134,
   "id": "b26b20e8-3070-4673-a97b-78068f7b67bd",
   "metadata": {},
   "outputs": [
    {
     "data": {
      "text/plain": [
       "array([[0.5488135 , 0.71518937, 0.60276338, 0.54488318],\n",
       "       [0.4236548 , 0.64589411, 0.43758721, 0.891773  ],\n",
       "       [0.96366276, 0.38344152, 0.79172504, 0.52889492],\n",
       "       [0.56804456, 0.92559664, 0.07103606, 0.0871293 ]])"
      ]
     },
     "execution_count": 134,
     "metadata": {},
     "output_type": "execute_result"
    }
   ],
   "source": [
    "#Seed for reproducibility\n",
    "np.random.seed(0)\n",
    "np.random.random([4,4])"
   ]
  },
  {
   "cell_type": "code",
   "execution_count": 130,
   "id": "0f943ef3-7ea6-43fd-88ec-3689418745a3",
   "metadata": {},
   "outputs": [
    {
     "data": {
      "text/plain": [
       "array([[0.23780724, 0.1718531 , 0.44929165, 0.30446841],\n",
       "       [0.83918912, 0.23774183, 0.50238946, 0.9425836 ],\n",
       "       [0.6339977 , 0.86728941, 0.94020969, 0.75076486],\n",
       "       [0.69957506, 0.96796557, 0.99440079, 0.45182168]])"
      ]
     },
     "execution_count": 130,
     "metadata": {},
     "output_type": "execute_result"
    }
   ],
   "source": [
    "np.random.random([4,4])"
   ]
  }
 ],
 "metadata": {
  "kernelspec": {
   "display_name": "Python 3 (ipykernel)",
   "language": "python",
   "name": "python3"
  },
  "language_info": {
   "codemirror_mode": {
    "name": "ipython",
    "version": 3
   },
   "file_extension": ".py",
   "mimetype": "text/x-python",
   "name": "python",
   "nbconvert_exporter": "python",
   "pygments_lexer": "ipython3",
   "version": "3.13.5"
  }
 },
 "nbformat": 4,
 "nbformat_minor": 5
}
